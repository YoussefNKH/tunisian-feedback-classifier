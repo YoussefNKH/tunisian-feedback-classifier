{
  "cells": [
    {
      "cell_type": "markdown",
      "metadata": {
        "id": "SA0dF6KL7yex"
      },
      "source": [
        "# **CRISP-DM Methodology for Data Science:**\n",
        "This methodology includes 5 steps:\n",
        "* ***Step 1- Business & Data Understanding***: The goal of the first is to identify Variables (Number, Types, Quality), Classes (Number of classes) and Volume (Number of samples).\n",
        "* ***Step 2- Data Preparation***: This step aims to clean, analyze, encode, normalize and split data.\n",
        "* ***Step 3- Machine Learning***: The implementation of machine learning algorithms.\n",
        "* ***Step 4- Performance Evaluation***: Evaluate the peformance using metrics.\n",
        "* ***Step 5- Deployment***: Saving model and implementing a web interface (API, Service)"
      ]
    },
    {
      "cell_type": "markdown",
      "metadata": {
        "id": "HNeMJZGe8EkT"
      },
      "source": [
        "# **Step 1- Business & Data Understanding**\n"
      ]
    },
    {
      "cell_type": "code",
      "execution_count": null,
      "metadata": {
        "colab": {
          "base_uri": "https://localhost:8080/",
          "height": 206
        },
        "id": "-epNxQRq7uu6",
        "outputId": "bf5c3a14-d465-4dc4-9314-5660ad221882"
      },
      "outputs": [
        {
          "ename": "FileNotFoundError",
          "evalue": "[Errno 2] No such file or directory: '/content/finals.csv'",
          "output_type": "error",
          "traceback": [
            "\u001b[1;31m---------------------------------------------------------------------------\u001b[0m",
            "\u001b[1;31mFileNotFoundError\u001b[0m                         Traceback (most recent call last)",
            "Cell \u001b[1;32mIn[1], line 2\u001b[0m\n\u001b[0;32m      1\u001b[0m \u001b[38;5;28;01mimport\u001b[39;00m\u001b[38;5;250m \u001b[39m\u001b[38;5;21;01mpandas\u001b[39;00m\u001b[38;5;250m \u001b[39m\u001b[38;5;28;01mas\u001b[39;00m\u001b[38;5;250m \u001b[39m\u001b[38;5;21;01mpd\u001b[39;00m\n\u001b[1;32m----> 2\u001b[0m df\u001b[38;5;241m=\u001b[39m\u001b[43mpd\u001b[49m\u001b[38;5;241;43m.\u001b[39;49m\u001b[43mread_csv\u001b[49m\u001b[43m(\u001b[49m\u001b[38;5;124;43m\"\u001b[39;49m\u001b[38;5;124;43m/content/finals.csv\u001b[39;49m\u001b[38;5;124;43m\"\u001b[39;49m\u001b[43m)\u001b[49m\n\u001b[0;32m      3\u001b[0m df\u001b[38;5;241m.\u001b[39mhead()\n",
            "File \u001b[1;32mc:\\Users\\youss.YOUSSEF\\AppData\\Local\\Programs\\Python\\Python312\\Lib\\site-packages\\pandas\\io\\parsers\\readers.py:1026\u001b[0m, in \u001b[0;36mread_csv\u001b[1;34m(filepath_or_buffer, sep, delimiter, header, names, index_col, usecols, dtype, engine, converters, true_values, false_values, skipinitialspace, skiprows, skipfooter, nrows, na_values, keep_default_na, na_filter, verbose, skip_blank_lines, parse_dates, infer_datetime_format, keep_date_col, date_parser, date_format, dayfirst, cache_dates, iterator, chunksize, compression, thousands, decimal, lineterminator, quotechar, quoting, doublequote, escapechar, comment, encoding, encoding_errors, dialect, on_bad_lines, delim_whitespace, low_memory, memory_map, float_precision, storage_options, dtype_backend)\u001b[0m\n\u001b[0;32m   1013\u001b[0m kwds_defaults \u001b[38;5;241m=\u001b[39m _refine_defaults_read(\n\u001b[0;32m   1014\u001b[0m     dialect,\n\u001b[0;32m   1015\u001b[0m     delimiter,\n\u001b[1;32m   (...)\u001b[0m\n\u001b[0;32m   1022\u001b[0m     dtype_backend\u001b[38;5;241m=\u001b[39mdtype_backend,\n\u001b[0;32m   1023\u001b[0m )\n\u001b[0;32m   1024\u001b[0m kwds\u001b[38;5;241m.\u001b[39mupdate(kwds_defaults)\n\u001b[1;32m-> 1026\u001b[0m \u001b[38;5;28;01mreturn\u001b[39;00m \u001b[43m_read\u001b[49m\u001b[43m(\u001b[49m\u001b[43mfilepath_or_buffer\u001b[49m\u001b[43m,\u001b[49m\u001b[43m \u001b[49m\u001b[43mkwds\u001b[49m\u001b[43m)\u001b[49m\n",
            "File \u001b[1;32mc:\\Users\\youss.YOUSSEF\\AppData\\Local\\Programs\\Python\\Python312\\Lib\\site-packages\\pandas\\io\\parsers\\readers.py:620\u001b[0m, in \u001b[0;36m_read\u001b[1;34m(filepath_or_buffer, kwds)\u001b[0m\n\u001b[0;32m    617\u001b[0m _validate_names(kwds\u001b[38;5;241m.\u001b[39mget(\u001b[38;5;124m\"\u001b[39m\u001b[38;5;124mnames\u001b[39m\u001b[38;5;124m\"\u001b[39m, \u001b[38;5;28;01mNone\u001b[39;00m))\n\u001b[0;32m    619\u001b[0m \u001b[38;5;66;03m# Create the parser.\u001b[39;00m\n\u001b[1;32m--> 620\u001b[0m parser \u001b[38;5;241m=\u001b[39m \u001b[43mTextFileReader\u001b[49m\u001b[43m(\u001b[49m\u001b[43mfilepath_or_buffer\u001b[49m\u001b[43m,\u001b[49m\u001b[43m \u001b[49m\u001b[38;5;241;43m*\u001b[39;49m\u001b[38;5;241;43m*\u001b[39;49m\u001b[43mkwds\u001b[49m\u001b[43m)\u001b[49m\n\u001b[0;32m    622\u001b[0m \u001b[38;5;28;01mif\u001b[39;00m chunksize \u001b[38;5;129;01mor\u001b[39;00m iterator:\n\u001b[0;32m    623\u001b[0m     \u001b[38;5;28;01mreturn\u001b[39;00m parser\n",
            "File \u001b[1;32mc:\\Users\\youss.YOUSSEF\\AppData\\Local\\Programs\\Python\\Python312\\Lib\\site-packages\\pandas\\io\\parsers\\readers.py:1620\u001b[0m, in \u001b[0;36mTextFileReader.__init__\u001b[1;34m(self, f, engine, **kwds)\u001b[0m\n\u001b[0;32m   1617\u001b[0m     \u001b[38;5;28mself\u001b[39m\u001b[38;5;241m.\u001b[39moptions[\u001b[38;5;124m\"\u001b[39m\u001b[38;5;124mhas_index_names\u001b[39m\u001b[38;5;124m\"\u001b[39m] \u001b[38;5;241m=\u001b[39m kwds[\u001b[38;5;124m\"\u001b[39m\u001b[38;5;124mhas_index_names\u001b[39m\u001b[38;5;124m\"\u001b[39m]\n\u001b[0;32m   1619\u001b[0m \u001b[38;5;28mself\u001b[39m\u001b[38;5;241m.\u001b[39mhandles: IOHandles \u001b[38;5;241m|\u001b[39m \u001b[38;5;28;01mNone\u001b[39;00m \u001b[38;5;241m=\u001b[39m \u001b[38;5;28;01mNone\u001b[39;00m\n\u001b[1;32m-> 1620\u001b[0m \u001b[38;5;28mself\u001b[39m\u001b[38;5;241m.\u001b[39m_engine \u001b[38;5;241m=\u001b[39m \u001b[38;5;28;43mself\u001b[39;49m\u001b[38;5;241;43m.\u001b[39;49m\u001b[43m_make_engine\u001b[49m\u001b[43m(\u001b[49m\u001b[43mf\u001b[49m\u001b[43m,\u001b[49m\u001b[43m \u001b[49m\u001b[38;5;28;43mself\u001b[39;49m\u001b[38;5;241;43m.\u001b[39;49m\u001b[43mengine\u001b[49m\u001b[43m)\u001b[49m\n",
            "File \u001b[1;32mc:\\Users\\youss.YOUSSEF\\AppData\\Local\\Programs\\Python\\Python312\\Lib\\site-packages\\pandas\\io\\parsers\\readers.py:1880\u001b[0m, in \u001b[0;36mTextFileReader._make_engine\u001b[1;34m(self, f, engine)\u001b[0m\n\u001b[0;32m   1878\u001b[0m     \u001b[38;5;28;01mif\u001b[39;00m \u001b[38;5;124m\"\u001b[39m\u001b[38;5;124mb\u001b[39m\u001b[38;5;124m\"\u001b[39m \u001b[38;5;129;01mnot\u001b[39;00m \u001b[38;5;129;01min\u001b[39;00m mode:\n\u001b[0;32m   1879\u001b[0m         mode \u001b[38;5;241m+\u001b[39m\u001b[38;5;241m=\u001b[39m \u001b[38;5;124m\"\u001b[39m\u001b[38;5;124mb\u001b[39m\u001b[38;5;124m\"\u001b[39m\n\u001b[1;32m-> 1880\u001b[0m \u001b[38;5;28mself\u001b[39m\u001b[38;5;241m.\u001b[39mhandles \u001b[38;5;241m=\u001b[39m \u001b[43mget_handle\u001b[49m\u001b[43m(\u001b[49m\n\u001b[0;32m   1881\u001b[0m \u001b[43m    \u001b[49m\u001b[43mf\u001b[49m\u001b[43m,\u001b[49m\n\u001b[0;32m   1882\u001b[0m \u001b[43m    \u001b[49m\u001b[43mmode\u001b[49m\u001b[43m,\u001b[49m\n\u001b[0;32m   1883\u001b[0m \u001b[43m    \u001b[49m\u001b[43mencoding\u001b[49m\u001b[38;5;241;43m=\u001b[39;49m\u001b[38;5;28;43mself\u001b[39;49m\u001b[38;5;241;43m.\u001b[39;49m\u001b[43moptions\u001b[49m\u001b[38;5;241;43m.\u001b[39;49m\u001b[43mget\u001b[49m\u001b[43m(\u001b[49m\u001b[38;5;124;43m\"\u001b[39;49m\u001b[38;5;124;43mencoding\u001b[39;49m\u001b[38;5;124;43m\"\u001b[39;49m\u001b[43m,\u001b[49m\u001b[43m \u001b[49m\u001b[38;5;28;43;01mNone\u001b[39;49;00m\u001b[43m)\u001b[49m\u001b[43m,\u001b[49m\n\u001b[0;32m   1884\u001b[0m \u001b[43m    \u001b[49m\u001b[43mcompression\u001b[49m\u001b[38;5;241;43m=\u001b[39;49m\u001b[38;5;28;43mself\u001b[39;49m\u001b[38;5;241;43m.\u001b[39;49m\u001b[43moptions\u001b[49m\u001b[38;5;241;43m.\u001b[39;49m\u001b[43mget\u001b[49m\u001b[43m(\u001b[49m\u001b[38;5;124;43m\"\u001b[39;49m\u001b[38;5;124;43mcompression\u001b[39;49m\u001b[38;5;124;43m\"\u001b[39;49m\u001b[43m,\u001b[49m\u001b[43m \u001b[49m\u001b[38;5;28;43;01mNone\u001b[39;49;00m\u001b[43m)\u001b[49m\u001b[43m,\u001b[49m\n\u001b[0;32m   1885\u001b[0m \u001b[43m    \u001b[49m\u001b[43mmemory_map\u001b[49m\u001b[38;5;241;43m=\u001b[39;49m\u001b[38;5;28;43mself\u001b[39;49m\u001b[38;5;241;43m.\u001b[39;49m\u001b[43moptions\u001b[49m\u001b[38;5;241;43m.\u001b[39;49m\u001b[43mget\u001b[49m\u001b[43m(\u001b[49m\u001b[38;5;124;43m\"\u001b[39;49m\u001b[38;5;124;43mmemory_map\u001b[39;49m\u001b[38;5;124;43m\"\u001b[39;49m\u001b[43m,\u001b[49m\u001b[43m \u001b[49m\u001b[38;5;28;43;01mFalse\u001b[39;49;00m\u001b[43m)\u001b[49m\u001b[43m,\u001b[49m\n\u001b[0;32m   1886\u001b[0m \u001b[43m    \u001b[49m\u001b[43mis_text\u001b[49m\u001b[38;5;241;43m=\u001b[39;49m\u001b[43mis_text\u001b[49m\u001b[43m,\u001b[49m\n\u001b[0;32m   1887\u001b[0m \u001b[43m    \u001b[49m\u001b[43merrors\u001b[49m\u001b[38;5;241;43m=\u001b[39;49m\u001b[38;5;28;43mself\u001b[39;49m\u001b[38;5;241;43m.\u001b[39;49m\u001b[43moptions\u001b[49m\u001b[38;5;241;43m.\u001b[39;49m\u001b[43mget\u001b[49m\u001b[43m(\u001b[49m\u001b[38;5;124;43m\"\u001b[39;49m\u001b[38;5;124;43mencoding_errors\u001b[39;49m\u001b[38;5;124;43m\"\u001b[39;49m\u001b[43m,\u001b[49m\u001b[43m \u001b[49m\u001b[38;5;124;43m\"\u001b[39;49m\u001b[38;5;124;43mstrict\u001b[39;49m\u001b[38;5;124;43m\"\u001b[39;49m\u001b[43m)\u001b[49m\u001b[43m,\u001b[49m\n\u001b[0;32m   1888\u001b[0m \u001b[43m    \u001b[49m\u001b[43mstorage_options\u001b[49m\u001b[38;5;241;43m=\u001b[39;49m\u001b[38;5;28;43mself\u001b[39;49m\u001b[38;5;241;43m.\u001b[39;49m\u001b[43moptions\u001b[49m\u001b[38;5;241;43m.\u001b[39;49m\u001b[43mget\u001b[49m\u001b[43m(\u001b[49m\u001b[38;5;124;43m\"\u001b[39;49m\u001b[38;5;124;43mstorage_options\u001b[39;49m\u001b[38;5;124;43m\"\u001b[39;49m\u001b[43m,\u001b[49m\u001b[43m \u001b[49m\u001b[38;5;28;43;01mNone\u001b[39;49;00m\u001b[43m)\u001b[49m\u001b[43m,\u001b[49m\n\u001b[0;32m   1889\u001b[0m \u001b[43m\u001b[49m\u001b[43m)\u001b[49m\n\u001b[0;32m   1890\u001b[0m \u001b[38;5;28;01massert\u001b[39;00m \u001b[38;5;28mself\u001b[39m\u001b[38;5;241m.\u001b[39mhandles \u001b[38;5;129;01mis\u001b[39;00m \u001b[38;5;129;01mnot\u001b[39;00m \u001b[38;5;28;01mNone\u001b[39;00m\n\u001b[0;32m   1891\u001b[0m f \u001b[38;5;241m=\u001b[39m \u001b[38;5;28mself\u001b[39m\u001b[38;5;241m.\u001b[39mhandles\u001b[38;5;241m.\u001b[39mhandle\n",
            "File \u001b[1;32mc:\\Users\\youss.YOUSSEF\\AppData\\Local\\Programs\\Python\\Python312\\Lib\\site-packages\\pandas\\io\\common.py:873\u001b[0m, in \u001b[0;36mget_handle\u001b[1;34m(path_or_buf, mode, encoding, compression, memory_map, is_text, errors, storage_options)\u001b[0m\n\u001b[0;32m    868\u001b[0m \u001b[38;5;28;01melif\u001b[39;00m \u001b[38;5;28misinstance\u001b[39m(handle, \u001b[38;5;28mstr\u001b[39m):\n\u001b[0;32m    869\u001b[0m     \u001b[38;5;66;03m# Check whether the filename is to be opened in binary mode.\u001b[39;00m\n\u001b[0;32m    870\u001b[0m     \u001b[38;5;66;03m# Binary mode does not support 'encoding' and 'newline'.\u001b[39;00m\n\u001b[0;32m    871\u001b[0m     \u001b[38;5;28;01mif\u001b[39;00m ioargs\u001b[38;5;241m.\u001b[39mencoding \u001b[38;5;129;01mand\u001b[39;00m \u001b[38;5;124m\"\u001b[39m\u001b[38;5;124mb\u001b[39m\u001b[38;5;124m\"\u001b[39m \u001b[38;5;129;01mnot\u001b[39;00m \u001b[38;5;129;01min\u001b[39;00m ioargs\u001b[38;5;241m.\u001b[39mmode:\n\u001b[0;32m    872\u001b[0m         \u001b[38;5;66;03m# Encoding\u001b[39;00m\n\u001b[1;32m--> 873\u001b[0m         handle \u001b[38;5;241m=\u001b[39m \u001b[38;5;28;43mopen\u001b[39;49m\u001b[43m(\u001b[49m\n\u001b[0;32m    874\u001b[0m \u001b[43m            \u001b[49m\u001b[43mhandle\u001b[49m\u001b[43m,\u001b[49m\n\u001b[0;32m    875\u001b[0m \u001b[43m            \u001b[49m\u001b[43mioargs\u001b[49m\u001b[38;5;241;43m.\u001b[39;49m\u001b[43mmode\u001b[49m\u001b[43m,\u001b[49m\n\u001b[0;32m    876\u001b[0m \u001b[43m            \u001b[49m\u001b[43mencoding\u001b[49m\u001b[38;5;241;43m=\u001b[39;49m\u001b[43mioargs\u001b[49m\u001b[38;5;241;43m.\u001b[39;49m\u001b[43mencoding\u001b[49m\u001b[43m,\u001b[49m\n\u001b[0;32m    877\u001b[0m \u001b[43m            \u001b[49m\u001b[43merrors\u001b[49m\u001b[38;5;241;43m=\u001b[39;49m\u001b[43merrors\u001b[49m\u001b[43m,\u001b[49m\n\u001b[0;32m    878\u001b[0m \u001b[43m            \u001b[49m\u001b[43mnewline\u001b[49m\u001b[38;5;241;43m=\u001b[39;49m\u001b[38;5;124;43m\"\u001b[39;49m\u001b[38;5;124;43m\"\u001b[39;49m\u001b[43m,\u001b[49m\n\u001b[0;32m    879\u001b[0m \u001b[43m        \u001b[49m\u001b[43m)\u001b[49m\n\u001b[0;32m    880\u001b[0m     \u001b[38;5;28;01melse\u001b[39;00m:\n\u001b[0;32m    881\u001b[0m         \u001b[38;5;66;03m# Binary mode\u001b[39;00m\n\u001b[0;32m    882\u001b[0m         handle \u001b[38;5;241m=\u001b[39m \u001b[38;5;28mopen\u001b[39m(handle, ioargs\u001b[38;5;241m.\u001b[39mmode)\n",
            "\u001b[1;31mFileNotFoundError\u001b[0m: [Errno 2] No such file or directory: '/content/finals.csv'"
          ]
        }
      ],
      "source": [
        "import pandas as pd\n",
        "df=pd.read_csv(\"finals.csv\")\n",
        "df.head()\n"
      ]
    },
    {
      "cell_type": "markdown",
      "metadata": {
        "id": "3W8tYJFCXQ-j"
      },
      "source": [
        "this dataset contains the following variables:\n",
        "\n",
        "\n",
        "*   **Comment_Text_Arabic**: which contains the comments\n",
        "*   **Problem_Source**: that contains the labels (2 classes of problem came from : product(المنتج) and service(الخدمة))\n",
        "\n"
      ]
    },
    {
      "cell_type": "code",
      "execution_count": null,
      "metadata": {
        "colab": {
          "base_uri": "https://localhost:8080/"
        },
        "id": "UU9O3_V5Bc76",
        "outputId": "ac82d4fe-0701-4ae1-e1ce-dfe71cd661ad"
      },
      "outputs": [
        {
          "name": "stdout",
          "output_type": "stream",
          "text": [
            "<class 'pandas.core.frame.DataFrame'>\n",
            "RangeIndex: 1036 entries, 0 to 1035\n",
            "Data columns (total 2 columns):\n",
            " #   Column               Non-Null Count  Dtype \n",
            "---  ------               --------------  ----- \n",
            " 0   Comment_Text_Arabic  1036 non-null   object\n",
            " 1   Problem_Source       1036 non-null   object\n",
            "dtypes: object(2)\n",
            "memory usage: 16.3+ KB\n"
          ]
        }
      ],
      "source": [
        "df.info()"
      ]
    },
    {
      "cell_type": "markdown",
      "metadata": {
        "id": "YgLHdHpNYc5E"
      },
      "source": [
        "The data includes 1036 samples with two type of variables:\n",
        "* *Features* Data which are:\n",
        "  * Comment_Text_Arabic 1036 non-null object\n",
        "* *Labels* Data which are:\n",
        "  * Problem_Source 1036 non-null  object"
      ]
    },
    {
      "cell_type": "markdown",
      "metadata": {
        "id": "Jxsix2J2DAKF"
      },
      "source": [
        "# **Step 2 - Data Preparation**\n",
        "\n",
        "There is no missed data, but we have to encode the text into numerical vectors. This is what we call \"Word Embedding\". Then, we will split the data.\n"
      ]
    },
    {
      "cell_type": "markdown",
      "metadata": {
        "id": "qW4vr4SjDJqE"
      },
      "source": [
        "## **2.1. Cleaning using Re and NLTK**"
      ]
    },
    {
      "cell_type": "code",
      "execution_count": null,
      "metadata": {
        "colab": {
          "base_uri": "https://localhost:8080/",
          "height": 241
        },
        "id": "D6HRtldPIo2s",
        "outputId": "3ba9bc2b-1b81-41a5-89ac-6e49e4a5d999"
      },
      "outputs": [
        {
          "name": "stderr",
          "output_type": "stream",
          "text": [
            "[nltk_data] Downloading package stopwords to /root/nltk_data...\n",
            "[nltk_data]   Unzipping corpora/stopwords.zip.\n"
          ]
        },
        {
          "data": {
            "application/vnd.google.colaboratory.intrinsic+json": {
              "summary": "{\n  \"name\": \"df\",\n  \"rows\": 1036,\n  \"fields\": [\n    {\n      \"column\": \"Comment_Text_Arabic\",\n      \"properties\": {\n        \"dtype\": \"string\",\n        \"num_unique_values\": 987,\n        \"samples\": [\n          \"\\u0627\\u0644\\u0643\\u0631\\u0633\\u064a \\u0647\\u0630\\u0627\\u064a\\u0627 \\u064a\\u062a\\u0643\\u0633\\u0631 \\u0641\\u064a\\u0633\\u0639 \\u0645\\u0646 \\u0627\\u0644\\u0623\\u0631\\u062c\\u0644 \\u0646\\u062a\\u0627\\u0639\\u0648.\",\n          \"\\u0627\\u0644\\u062e\\u062f\\u0645\\u0629 \\u0646\\u062a\\u0627\\u0639 \\u0627\\u0644\\u0635\\u0631\\u0641 \\u0641\\u064a \\u0627\\u0644\\u0628\\u0646\\u0643 \\u064a\\u0627\\u062e\\u0630\\u0648 \\u0628\\u0631\\u0634\\u0627 \\u0641\\u0644\\u0648\\u0633.\",\n          \"\\u0627\\u0644\\u0645\\u0631\\u0634\\u062f \\u0627\\u0644\\u0633\\u064a\\u0627\\u062d\\u064a \\u0627\\u0644\\u0644\\u064a \\u0643\\u0627\\u0646 \\u0645\\u0639\\u0627\\u0646\\u0627 \\u0641\\u064a \\u0627\\u0644\\u062c\\u0648\\u0644\\u0629\\u060c \\u0645\\u0639\\u0644\\u0648\\u0645\\u0627\\u062a\\u0647 \\u0633\\u0637\\u062d\\u064a\\u0629 \\u0648 \\u0623\\u063a\\u0644\\u0628 \\u0627\\u0644\\u0648\\u0642\\u062a \\u0633\\u0627\\u0643\\u062a.\"\n        ],\n        \"semantic_type\": \"\",\n        \"description\": \"\"\n      }\n    },\n    {\n      \"column\": \"Problem_Source\",\n      \"properties\": {\n        \"dtype\": \"category\",\n        \"num_unique_values\": 5,\n        \"samples\": [\n          \"\\u0627\\u0644\\u062e\\u062f\\u0645\\u0629\",\n          \"\\u0627\\u0644\\u062e\\u062f\\u0645\\u0629\\\"\",\n          \" \\\"\\u0627\\u0644\\u062e\\u062f\\u0645\\u0629\\\"\"\n        ],\n        \"semantic_type\": \"\",\n        \"description\": \"\"\n      }\n    },\n    {\n      \"column\": \"cleaned\",\n      \"properties\": {\n        \"dtype\": \"string\",\n        \"num_unique_values\": 983,\n        \"samples\": [\n          \"\\u0634\\u0631\\u0643\\u0647 \\u062a\\u0631\\u0643\\u064a\\u0628 \\u0627\\u0644\\u0648\\u0627\\u062d \\u0627\\u0644\\u0637\\u0627\\u0642\\u0647 \\u0627\\u0644\\u0634\\u0645\\u0633\\u064a\\u0647\\u060c \\u0627\\u0644\\u062a\\u0631\\u0643\\u064a\\u0628 \\u0639\\u0634\\u0648\\u0627\\u0621\\u064a \\u0627\\u0644\\u0627\\u062f\\u0627\\u0621 \\u0636\\u0639\\u064a\\u0641\",\n          \"\\u0648\\u0627\\u0642\\u064a \\u0627\\u0644\\u0634\\u0627\\u0634\\u0647 \\u0645\\u062a\\u0627\\u0639 \\u0627\\u0644\\u0647\\u0627\\u062a\\u0641 \\u0627\\u062a\\u0643\\u0633\\u0631 \\u0627\\u0648\\u0644 \\u0637\\u064a\\u062d\\u0647 \\u062e\\u0641\\u064a\\u0641\\u0647\\u060c \\u062d\\u0645\\u0627\\u064a\\u0647 \\u0635\\u0641\\u0631\",\n          \"\\u0634\\u0627\\u062d\\u0646 \\u0644\\u0627\\u0633\\u0644\\u0643\\u064a \\u0644\\u0644\\u0647\\u0627\\u062a\\u0641 \\u0628\\u0637\\u064a\\u0621 \\u062c\\u062f\\u0627\\u064b \\u0627\\u0644\\u0634\\u062d\\u0646 \\u064a\\u0633\\u062e\\u0646 \\u0627\\u0644\\u062a\\u0644\\u064a\\u0641\\u0648\\u0646 \\u0628\\u0631\\u0634\\u0627\"\n        ],\n        \"semantic_type\": \"\",\n        \"description\": \"\"\n      }\n    }\n  ]\n}",
              "type": "dataframe",
              "variable_name": "df"
            },
            "text/html": [
              "\n",
              "  <div id=\"df-903b4773-172e-4c61-aa10-dc3c6171c4a8\" class=\"colab-df-container\">\n",
              "    <div>\n",
              "<style scoped>\n",
              "    .dataframe tbody tr th:only-of-type {\n",
              "        vertical-align: middle;\n",
              "    }\n",
              "\n",
              "    .dataframe tbody tr th {\n",
              "        vertical-align: top;\n",
              "    }\n",
              "\n",
              "    .dataframe thead th {\n",
              "        text-align: right;\n",
              "    }\n",
              "</style>\n",
              "<table border=\"1\" class=\"dataframe\">\n",
              "  <thead>\n",
              "    <tr style=\"text-align: right;\">\n",
              "      <th></th>\n",
              "      <th>Comment_Text_Arabic</th>\n",
              "      <th>Problem_Source</th>\n",
              "      <th>cleaned</th>\n",
              "    </tr>\n",
              "  </thead>\n",
              "  <tbody>\n",
              "    <tr>\n",
              "      <th>0</th>\n",
              "      <td>يا ولادي شريت تاليفون جديد، بعد جمعة البطارية ...</td>\n",
              "      <td>المنتج</td>\n",
              "      <td>ولادي شريت تاليفون جديد، جمعه البطاريه طاحت جمله</td>\n",
              "    </tr>\n",
              "    <tr>\n",
              "      <th>1</th>\n",
              "      <td>الطلبية وصلتني ناقصة، و خدمة العملاء ما يجاوبو...</td>\n",
              "      <td>الخدمة</td>\n",
              "      <td>الطلبيه وصلتني ناقصه، خدمه العملاء يجاوبوش</td>\n",
              "    </tr>\n",
              "    <tr>\n",
              "      <th>2</th>\n",
              "      <td>الغسالة من أول استعمال تعمل في حس غريب و ما تن...</td>\n",
              "      <td>المنتج</td>\n",
              "      <td>الغساله اول استعمال تعمل حس غريب تنظفش بالباهي</td>\n",
              "    </tr>\n",
              "    <tr>\n",
              "      <th>3</th>\n",
              "      <td>طلبت حذاء، جابولي قياس خاطئ و باش نبدل حكاية!</td>\n",
              "      <td>الخدمة</td>\n",
              "      <td>طلبت حذاء، جابولي قياس خاطء باش نبدل حكايه</td>\n",
              "    </tr>\n",
              "    <tr>\n",
              "      <th>4</th>\n",
              "      <td>الخامة نتاع التيشرت هذا خايبة برشا، لبستين و ت...</td>\n",
              "      <td>المنتج</td>\n",
              "      <td>الخامه نتاع التيشرت خايبه برشا، لبستين تريّش</td>\n",
              "    </tr>\n",
              "  </tbody>\n",
              "</table>\n",
              "</div>\n",
              "    <div class=\"colab-df-buttons\">\n",
              "\n",
              "  <div class=\"colab-df-container\">\n",
              "    <button class=\"colab-df-convert\" onclick=\"convertToInteractive('df-903b4773-172e-4c61-aa10-dc3c6171c4a8')\"\n",
              "            title=\"Convert this dataframe to an interactive table.\"\n",
              "            style=\"display:none;\">\n",
              "\n",
              "  <svg xmlns=\"http://www.w3.org/2000/svg\" height=\"24px\" viewBox=\"0 -960 960 960\">\n",
              "    <path d=\"M120-120v-720h720v720H120Zm60-500h600v-160H180v160Zm220 220h160v-160H400v160Zm0 220h160v-160H400v160ZM180-400h160v-160H180v160Zm440 0h160v-160H620v160ZM180-180h160v-160H180v160Zm440 0h160v-160H620v160Z\"/>\n",
              "  </svg>\n",
              "    </button>\n",
              "\n",
              "  <style>\n",
              "    .colab-df-container {\n",
              "      display:flex;\n",
              "      gap: 12px;\n",
              "    }\n",
              "\n",
              "    .colab-df-convert {\n",
              "      background-color: #E8F0FE;\n",
              "      border: none;\n",
              "      border-radius: 50%;\n",
              "      cursor: pointer;\n",
              "      display: none;\n",
              "      fill: #1967D2;\n",
              "      height: 32px;\n",
              "      padding: 0 0 0 0;\n",
              "      width: 32px;\n",
              "    }\n",
              "\n",
              "    .colab-df-convert:hover {\n",
              "      background-color: #E2EBFA;\n",
              "      box-shadow: 0px 1px 2px rgba(60, 64, 67, 0.3), 0px 1px 3px 1px rgba(60, 64, 67, 0.15);\n",
              "      fill: #174EA6;\n",
              "    }\n",
              "\n",
              "    .colab-df-buttons div {\n",
              "      margin-bottom: 4px;\n",
              "    }\n",
              "\n",
              "    [theme=dark] .colab-df-convert {\n",
              "      background-color: #3B4455;\n",
              "      fill: #D2E3FC;\n",
              "    }\n",
              "\n",
              "    [theme=dark] .colab-df-convert:hover {\n",
              "      background-color: #434B5C;\n",
              "      box-shadow: 0px 1px 3px 1px rgba(0, 0, 0, 0.15);\n",
              "      filter: drop-shadow(0px 1px 2px rgba(0, 0, 0, 0.3));\n",
              "      fill: #FFFFFF;\n",
              "    }\n",
              "  </style>\n",
              "\n",
              "    <script>\n",
              "      const buttonEl =\n",
              "        document.querySelector('#df-903b4773-172e-4c61-aa10-dc3c6171c4a8 button.colab-df-convert');\n",
              "      buttonEl.style.display =\n",
              "        google.colab.kernel.accessAllowed ? 'block' : 'none';\n",
              "\n",
              "      async function convertToInteractive(key) {\n",
              "        const element = document.querySelector('#df-903b4773-172e-4c61-aa10-dc3c6171c4a8');\n",
              "        const dataTable =\n",
              "          await google.colab.kernel.invokeFunction('convertToInteractive',\n",
              "                                                    [key], {});\n",
              "        if (!dataTable) return;\n",
              "\n",
              "        const docLinkHtml = 'Like what you see? Visit the ' +\n",
              "          '<a target=\"_blank\" href=https://colab.research.google.com/notebooks/data_table.ipynb>data table notebook</a>'\n",
              "          + ' to learn more about interactive tables.';\n",
              "        element.innerHTML = '';\n",
              "        dataTable['output_type'] = 'display_data';\n",
              "        await google.colab.output.renderOutput(dataTable, element);\n",
              "        const docLink = document.createElement('div');\n",
              "        docLink.innerHTML = docLinkHtml;\n",
              "        element.appendChild(docLink);\n",
              "      }\n",
              "    </script>\n",
              "  </div>\n",
              "\n",
              "\n",
              "    <div id=\"df-98c18ee7-9586-4478-9225-a28aa50f7bb7\">\n",
              "      <button class=\"colab-df-quickchart\" onclick=\"quickchart('df-98c18ee7-9586-4478-9225-a28aa50f7bb7')\"\n",
              "                title=\"Suggest charts\"\n",
              "                style=\"display:none;\">\n",
              "\n",
              "<svg xmlns=\"http://www.w3.org/2000/svg\" height=\"24px\"viewBox=\"0 0 24 24\"\n",
              "     width=\"24px\">\n",
              "    <g>\n",
              "        <path d=\"M19 3H5c-1.1 0-2 .9-2 2v14c0 1.1.9 2 2 2h14c1.1 0 2-.9 2-2V5c0-1.1-.9-2-2-2zM9 17H7v-7h2v7zm4 0h-2V7h2v10zm4 0h-2v-4h2v4z\"/>\n",
              "    </g>\n",
              "</svg>\n",
              "      </button>\n",
              "\n",
              "<style>\n",
              "  .colab-df-quickchart {\n",
              "      --bg-color: #E8F0FE;\n",
              "      --fill-color: #1967D2;\n",
              "      --hover-bg-color: #E2EBFA;\n",
              "      --hover-fill-color: #174EA6;\n",
              "      --disabled-fill-color: #AAA;\n",
              "      --disabled-bg-color: #DDD;\n",
              "  }\n",
              "\n",
              "  [theme=dark] .colab-df-quickchart {\n",
              "      --bg-color: #3B4455;\n",
              "      --fill-color: #D2E3FC;\n",
              "      --hover-bg-color: #434B5C;\n",
              "      --hover-fill-color: #FFFFFF;\n",
              "      --disabled-bg-color: #3B4455;\n",
              "      --disabled-fill-color: #666;\n",
              "  }\n",
              "\n",
              "  .colab-df-quickchart {\n",
              "    background-color: var(--bg-color);\n",
              "    border: none;\n",
              "    border-radius: 50%;\n",
              "    cursor: pointer;\n",
              "    display: none;\n",
              "    fill: var(--fill-color);\n",
              "    height: 32px;\n",
              "    padding: 0;\n",
              "    width: 32px;\n",
              "  }\n",
              "\n",
              "  .colab-df-quickchart:hover {\n",
              "    background-color: var(--hover-bg-color);\n",
              "    box-shadow: 0 1px 2px rgba(60, 64, 67, 0.3), 0 1px 3px 1px rgba(60, 64, 67, 0.15);\n",
              "    fill: var(--button-hover-fill-color);\n",
              "  }\n",
              "\n",
              "  .colab-df-quickchart-complete:disabled,\n",
              "  .colab-df-quickchart-complete:disabled:hover {\n",
              "    background-color: var(--disabled-bg-color);\n",
              "    fill: var(--disabled-fill-color);\n",
              "    box-shadow: none;\n",
              "  }\n",
              "\n",
              "  .colab-df-spinner {\n",
              "    border: 2px solid var(--fill-color);\n",
              "    border-color: transparent;\n",
              "    border-bottom-color: var(--fill-color);\n",
              "    animation:\n",
              "      spin 1s steps(1) infinite;\n",
              "  }\n",
              "\n",
              "  @keyframes spin {\n",
              "    0% {\n",
              "      border-color: transparent;\n",
              "      border-bottom-color: var(--fill-color);\n",
              "      border-left-color: var(--fill-color);\n",
              "    }\n",
              "    20% {\n",
              "      border-color: transparent;\n",
              "      border-left-color: var(--fill-color);\n",
              "      border-top-color: var(--fill-color);\n",
              "    }\n",
              "    30% {\n",
              "      border-color: transparent;\n",
              "      border-left-color: var(--fill-color);\n",
              "      border-top-color: var(--fill-color);\n",
              "      border-right-color: var(--fill-color);\n",
              "    }\n",
              "    40% {\n",
              "      border-color: transparent;\n",
              "      border-right-color: var(--fill-color);\n",
              "      border-top-color: var(--fill-color);\n",
              "    }\n",
              "    60% {\n",
              "      border-color: transparent;\n",
              "      border-right-color: var(--fill-color);\n",
              "    }\n",
              "    80% {\n",
              "      border-color: transparent;\n",
              "      border-right-color: var(--fill-color);\n",
              "      border-bottom-color: var(--fill-color);\n",
              "    }\n",
              "    90% {\n",
              "      border-color: transparent;\n",
              "      border-bottom-color: var(--fill-color);\n",
              "    }\n",
              "  }\n",
              "</style>\n",
              "\n",
              "      <script>\n",
              "        async function quickchart(key) {\n",
              "          const quickchartButtonEl =\n",
              "            document.querySelector('#' + key + ' button');\n",
              "          quickchartButtonEl.disabled = true;  // To prevent multiple clicks.\n",
              "          quickchartButtonEl.classList.add('colab-df-spinner');\n",
              "          try {\n",
              "            const charts = await google.colab.kernel.invokeFunction(\n",
              "                'suggestCharts', [key], {});\n",
              "          } catch (error) {\n",
              "            console.error('Error during call to suggestCharts:', error);\n",
              "          }\n",
              "          quickchartButtonEl.classList.remove('colab-df-spinner');\n",
              "          quickchartButtonEl.classList.add('colab-df-quickchart-complete');\n",
              "        }\n",
              "        (() => {\n",
              "          let quickchartButtonEl =\n",
              "            document.querySelector('#df-98c18ee7-9586-4478-9225-a28aa50f7bb7 button');\n",
              "          quickchartButtonEl.style.display =\n",
              "            google.colab.kernel.accessAllowed ? 'block' : 'none';\n",
              "        })();\n",
              "      </script>\n",
              "    </div>\n",
              "\n",
              "    </div>\n",
              "  </div>\n"
            ],
            "text/plain": [
              "                                 Comment_Text_Arabic Problem_Source  \\\n",
              "0  يا ولادي شريت تاليفون جديد، بعد جمعة البطارية ...         المنتج   \n",
              "1  الطلبية وصلتني ناقصة، و خدمة العملاء ما يجاوبو...         الخدمة   \n",
              "2  الغسالة من أول استعمال تعمل في حس غريب و ما تن...         المنتج   \n",
              "3      طلبت حذاء، جابولي قياس خاطئ و باش نبدل حكاية!         الخدمة   \n",
              "4  الخامة نتاع التيشرت هذا خايبة برشا، لبستين و ت...         المنتج   \n",
              "\n",
              "                                            cleaned  \n",
              "0  ولادي شريت تاليفون جديد، جمعه البطاريه طاحت جمله  \n",
              "1        الطلبيه وصلتني ناقصه، خدمه العملاء يجاوبوش  \n",
              "2    الغساله اول استعمال تعمل حس غريب تنظفش بالباهي  \n",
              "3        طلبت حذاء، جابولي قياس خاطء باش نبدل حكايه  \n",
              "4      الخامه نتاع التيشرت خايبه برشا، لبستين تريّش  "
            ]
          },
          "execution_count": 4,
          "metadata": {},
          "output_type": "execute_result"
        }
      ],
      "source": [
        "import re\n",
        "from nltk.corpus import stopwords\n",
        "import nltk\n",
        "\n",
        "nltk.download('stopwords')\n",
        "arabic_stopwords = set(stopwords.words('arabic'))\n",
        "\n",
        "def normalize_arabic(text):\n",
        "    text = re.sub(r'[إأآا]', 'ا', text)\n",
        "    text = re.sub(r'ى', 'ي', text)\n",
        "    text = re.sub(r'ؤ', 'ء', text)\n",
        "    text = re.sub(r'ئ', 'ء', text)\n",
        "    text = re.sub(r'ة', 'ه', text)\n",
        "    text = re.sub(r'[^؀-ۿ\\s]', '', text)  # Keep only Arabic characters\n",
        "    text = re.sub(r'\\s+', ' ', text).strip()\n",
        "    return text\n",
        "\n",
        "def clean_arabic_text(text):\n",
        "    text = normalize_arabic(text)\n",
        "    tokens = text.split()\n",
        "    tokens = [t for t in tokens if t not in arabic_stopwords]\n",
        "    return ' '.join(tokens)\n",
        "\n",
        "# Apply preprocessing\n",
        "df['cleaned'] = df['Comment_Text_Arabic'].apply(clean_arabic_text)\n",
        "df.head()"
      ]
    },
    {
      "cell_type": "code",
      "execution_count": null,
      "metadata": {
        "id": "TI9ki7_eI-MO"
      },
      "outputs": [],
      "source": [
        "from sklearn.feature_extraction.text import TfidfVectorizer\n",
        "\n",
        "vectorizer = TfidfVectorizer(max_features=1000)\n",
        "X_tfidf = vectorizer.fit_transform(df['cleaned']).toarray()"
      ]
    },
    {
      "cell_type": "code",
      "execution_count": null,
      "metadata": {},
      "outputs": [],
      "source": [
        "df['Problem_Source'] = df['Problem_Source'].str.replace('\"', '', regex=False).str.strip()"
      ]
    },
    {
      "cell_type": "code",
      "execution_count": null,
      "metadata": {
        "id": "2nCwFPhVJPaY"
      },
      "outputs": [],
      "source": [
        "from sklearn.feature_extraction.text import TfidfVectorizer\n",
        "\n",
        "vectorizer = TfidfVectorizer(max_features=1000)\n",
        "X = vectorizer.fit_transform(df['Comment_Text_Arabic']).toarray()\n",
        "y = df['Problem_Source']\n"
      ]
    },
    {
      "cell_type": "code",
      "execution_count": null,
      "metadata": {
        "colab": {
          "base_uri": "https://localhost:8080/"
        },
        "id": "bzUQGraiJkvG",
        "outputId": "14b51aec-66c0-4e2b-ddf5-5a8de65efc1d"
      },
      "outputs": [
        {
          "data": {
            "text/plain": [
              "array(['المنتج', 'الخدمة'], dtype=object)"
            ]
          },
          "execution_count": 11,
          "metadata": {},
          "output_type": "execute_result"
        }
      ],
      "source": [
        "y.unique()"
      ]
    },
    {
      "cell_type": "markdown",
      "metadata": {
        "id": "PkMnlgnxJ7j-"
      },
      "source": [
        "## **2.2. Split of Data**"
      ]
    },
    {
      "cell_type": "code",
      "execution_count": null,
      "metadata": {
        "id": "l1aQi64PJsv7"
      },
      "outputs": [],
      "source": [
        "from sklearn.model_selection import train_test_split\n",
        "\n",
        "X_train, X_test, y_train, y_test = train_test_split(X, y, test_size=0.2)\n"
      ]
    },
    {
      "cell_type": "markdown",
      "metadata": {
        "id": "qHJEZYtbKExK"
      },
      "source": [
        "# **Step 3 - Machine Learning**"
      ]
    },
    {
      "cell_type": "code",
      "execution_count": null,
      "metadata": {
        "colab": {
          "base_uri": "https://localhost:8080/"
        },
        "id": "DCp2dYTcKGaL",
        "outputId": "69777091-ae8c-40bc-c9a1-7d5c0bf84e51"
      },
      "outputs": [
        {
          "name": "stderr",
          "output_type": "stream",
          "text": [
            "/usr/local/lib/python3.11/dist-packages/sklearn/neural_network/_multilayer_perceptron.py:691: ConvergenceWarning: Stochastic Optimizer: Maximum iterations (200) reached and the optimization hasn't converged yet.\n",
            "  warnings.warn(\n"
          ]
        }
      ],
      "source": [
        "from sklearn.naive_bayes    import GaussianNB\n",
        "from sklearn.neural_network import MLPClassifier\n",
        "from sklearn.svm            import SVC\n",
        "#Inialization\n",
        "nb=GaussianNB()\n",
        "nn=MLPClassifier(hidden_layer_sizes=(20,20),activation=\"logistic\",solver='adam')\n",
        "linear_svm=SVC(kernel='linear')\n",
        "rbf_svm=SVC(kernel='rbf')\n",
        "sgd_svm=SVC(kernel='sigmoid')\n",
        "poly_svm=SVC(kernel='poly',degree=2)\n",
        "#Training\n",
        "nb.fit(X_train,y_train)\n",
        "nn.fit(X_train,y_train)\n",
        "linear_svm.fit(X_train,y_train)\n",
        "rbf_svm.fit(X_train,y_train)\n",
        "sgd_svm.fit(X_train,y_train)\n",
        "poly_svm.fit(X_train,y_train)\n",
        "#Prediction\n",
        "y_pred_nb=nb.predict(X_test)\n",
        "y_pred_nn=nn.predict(X_test)\n",
        "y_pred_rbf=rbf_svm.predict(X_test)\n",
        "y_pred_linear=linear_svm.predict(X_test)\n",
        "y_pred_sgd=sgd_svm.predict(X_test)\n",
        "y_pred_poly=poly_svm.predict(X_test)"
      ]
    },
    {
      "cell_type": "markdown",
      "metadata": {
        "id": "cqvZC-uyKgyR"
      },
      "source": [
        "# **Step 4- Performance Evaluation**"
      ]
    },
    {
      "cell_type": "code",
      "execution_count": null,
      "metadata": {
        "colab": {
          "base_uri": "https://localhost:8080/"
        },
        "id": "CZC6gkAGKoxQ",
        "outputId": "557ec524-9699-4700-f921-d836929cc6d8"
      },
      "outputs": [
        {
          "name": "stdout",
          "output_type": "stream",
          "text": [
            "************ Performance of Naive Bayes *************\n",
            "              precision    recall  f1-score   support\n",
            "\n",
            "      الخدمة       0.92      0.91      0.91        98\n",
            "      المنتج       0.92      0.93      0.92       110\n",
            "\n",
            "    accuracy                           0.92       208\n",
            "   macro avg       0.92      0.92      0.92       208\n",
            "weighted avg       0.92      0.92      0.92       208\n",
            "\n",
            "************ Performance of Neural Network *************\n",
            "              precision    recall  f1-score   support\n",
            "\n",
            "      الخدمة       0.94      0.95      0.94        98\n",
            "      المنتج       0.95      0.95      0.95       110\n",
            "\n",
            "    accuracy                           0.95       208\n",
            "   macro avg       0.95      0.95      0.95       208\n",
            "weighted avg       0.95      0.95      0.95       208\n",
            "\n",
            "************ Performance of Linear SVM *************\n",
            "              precision    recall  f1-score   support\n",
            "\n",
            "      الخدمة       0.95      0.90      0.92        98\n",
            "      المنتج       0.91      0.95      0.93       110\n",
            "\n",
            "    accuracy                           0.93       208\n",
            "   macro avg       0.93      0.93      0.93       208\n",
            "weighted avg       0.93      0.93      0.93       208\n",
            "\n",
            "************ Performance of RBF SVM *************\n",
            "              precision    recall  f1-score   support\n",
            "\n",
            "      الخدمة       0.96      0.94      0.95        98\n",
            "      المنتج       0.95      0.96      0.95       110\n",
            "\n",
            "    accuracy                           0.95       208\n",
            "   macro avg       0.95      0.95      0.95       208\n",
            "weighted avg       0.95      0.95      0.95       208\n",
            "\n",
            "************ Performance of SGD SVM *************\n",
            "              precision    recall  f1-score   support\n",
            "\n",
            "      الخدمة       0.95      0.90      0.92        98\n",
            "      المنتج       0.91      0.95      0.93       110\n",
            "\n",
            "    accuracy                           0.93       208\n",
            "   macro avg       0.93      0.93      0.93       208\n",
            "weighted avg       0.93      0.93      0.93       208\n",
            "\n",
            "************ Performance of Poly SVM *************\n",
            "              precision    recall  f1-score   support\n",
            "\n",
            "      الخدمة       0.95      0.95      0.95        98\n",
            "      المنتج       0.95      0.95      0.95       110\n",
            "\n",
            "    accuracy                           0.95       208\n",
            "   macro avg       0.95      0.95      0.95       208\n",
            "weighted avg       0.95      0.95      0.95       208\n",
            "\n"
          ]
        }
      ],
      "source": [
        "from sklearn.metrics import classification_report\n",
        "\n",
        "print(\"************ Performance of Naive Bayes *************\")\n",
        "print(classification_report(y_test, y_pred_nb))\n",
        "\n",
        "print(\"************ Performance of Neural Network *************\")\n",
        "print(classification_report(y_test, y_pred_nn))\n",
        "\n",
        "print(\"************ Performance of Linear SVM *************\")\n",
        "print(classification_report(y_test, y_pred_linear))\n",
        "\n",
        "print(\"************ Performance of RBF SVM *************\")\n",
        "print(classification_report(y_test, y_pred_rbf))\n",
        "\n",
        "print(\"************ Performance of SGD SVM *************\")\n",
        "print(classification_report(y_test, y_pred_sgd))\n",
        "\n",
        "print(\"************ Performance of Poly SVM *************\")\n",
        "print(classification_report(y_test, y_pred_poly))\n"
      ]
    },
    {
      "cell_type": "markdown",
      "metadata": {
        "id": "tjSM8BRESh_K"
      },
      "source": [
        "### ✅ Neural Network\n",
        "\n",
        "The neural network showed excellent performance with high accuracy on both classes.  \n",
        "It's a great choice when you have more data or plan to handle more complex tasks later.  \n",
        "It’s flexible and scalable, though it requires more resources and tuning expertise."
      ]
    },
    {
      "cell_type": "code",
      "execution_count": null,
      "metadata": {
        "colab": {
          "base_uri": "https://localhost:8080/"
        },
        "id": "hDvS027Z2cxP",
        "outputId": "12ecf636-b175-4302-a075-51c5ecdecfbc"
      },
      "outputs": [
        {
          "name": "stdout",
          "output_type": "stream",
          "text": [
            "The predicted problem source for the text is: المنتج\n"
          ]
        }
      ],
      "source": [
        "#########################TEST################################\n",
        "text = \"برودوي مجا شي حكايتو فارغة منغير متشريو \"\n",
        "\n",
        "cleaned_text = clean_arabic_text(text)\n",
        "\n",
        "text_vectorized = vectorizer.transform([cleaned_text]).toarray()\n",
        "\n",
        "prediction = nn.predict(text_vectorized)\n",
        "\n",
        "print(f\"The predicted problem source for the text is: {prediction[0]}\")\n"
      ]
    },
    {
      "cell_type": "markdown",
      "metadata": {
        "id": "dKDRf9MueHTo"
      },
      "source": [
        "# **Step 5 - Deployment**"
      ]
    },
    {
      "cell_type": "code",
      "execution_count": null,
      "metadata": {
        "id": "U6_FMTcjSlqF"
      },
      "outputs": [],
      "source": [
        "import pickle\n",
        "\n",
        "with open(\"MLP_model.pkl\", \"wb\") as f:\n",
        "    pickle.dump(nn, f)\n",
        "with open(\"tfidf_vectorizer.pkl\", \"wb\") as f:\n",
        "    pickle.dump(vectorizer, f)\n",
        "with open(\"cleaner-text.pkl\",\"wb\") as f:\n",
        "  pickle.dump(clean_arabic_text,f)"
      ]
    }
  ],
  "metadata": {
    "colab": {
      "provenance": []
    },
    "kernelspec": {
      "display_name": "Python 3",
      "name": "python3"
    },
    "language_info": {
      "codemirror_mode": {
        "name": "ipython",
        "version": 3
      },
      "file_extension": ".py",
      "mimetype": "text/x-python",
      "name": "python",
      "nbconvert_exporter": "python",
      "pygments_lexer": "ipython3",
      "version": "3.12.6"
    }
  },
  "nbformat": 4,
  "nbformat_minor": 0
}
